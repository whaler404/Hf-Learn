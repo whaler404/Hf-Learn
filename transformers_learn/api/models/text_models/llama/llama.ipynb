{
 "cells": [
  {
   "cell_type": "code",
   "execution_count": 41,
   "id": "2c3ee616",
   "metadata": {},
   "outputs": [],
   "source": [
    "from transformers.models.llama.modeling_llama import LlamaForCausalLM\n",
    "from transformers import AutoTokenizer\n",
    "\n",
    "tokenizer = AutoTokenizer.from_pretrained(\"HuggingFaceTB/SmolLM2-135M\")\n",
    "model = LlamaForCausalLM.from_pretrained(\"HuggingFaceTB/SmolLM2-135M\")"
   ]
  },
  {
   "cell_type": "code",
   "execution_count": null,
   "id": "062f2960",
   "metadata": {},
   "outputs": [
    {
     "name": "stdout",
     "output_type": "stream",
     "text": [
      "tensor([[0, 1, 2, 3, 4, 5, 6, 7, 8, 9, 6]])\n"
     ]
    }
   ],
   "source": [
    "import torch\n",
    "\n",
    "input_ids = torch.concat((torch.arange(10, dtype=torch.int64),torch.Tensor([6,47224])),dim=-1).view(1, -1).to(torch.int64)\n",
    "print(input_ids)\n",
    "result = model(input_ids=input_ids)"
   ]
  },
  {
   "cell_type": "code",
   "execution_count": 47,
   "id": "17c55848",
   "metadata": {},
   "outputs": [
    {
     "name": "stdout",
     "output_type": "stream",
     "text": [
      "tensor([[  504,    28,   198,   198,   198,     3,    79,     6,     6,     6,\n",
      "         47224]])\n"
     ]
    }
   ],
   "source": [
    "print(torch.argmax(result.logits, dim=-1))"
   ]
  },
  {
   "cell_type": "code",
   "execution_count": 48,
   "id": "d200601f",
   "metadata": {},
   "outputs": [
    {
     "name": "stderr",
     "output_type": "stream",
     "text": [
      "The attention mask and the pad token id were not set. As a consequence, you may observe unexpected behavior. Please pass your input's `attention_mask` to obtain reliable results.\n",
      "Setting `pad_token_id` to `eos_token_id`:0 for open-end generation.\n"
     ]
    }
   ],
   "source": [
    "model.config.pad_token_id = tokenizer.pad_token_id\n",
    "result=model.generate(input_ids=torch.arange(10).view(1, -1), max_length=20)"
   ]
  },
  {
   "cell_type": "code",
   "execution_count": null,
   "id": "e9f469c8",
   "metadata": {},
   "outputs": [
    {
     "name": "stdout",
     "output_type": "stream",
     "text": [
      "tensor([[    0,     1,     2,     3,     4,     5,     6,     7,     8,     9,\n",
      "             6, 47224, 47224, 47224, 47224, 47224, 47224, 47224, 47224, 47224]])\n"
     ]
    }
   ],
   "source": [
    "print(result)"
   ]
  }
 ],
 "metadata": {
  "kernelspec": {
   "display_name": "torch312",
   "language": "python",
   "name": "python3"
  },
  "language_info": {
   "codemirror_mode": {
    "name": "ipython",
    "version": 3
   },
   "file_extension": ".py",
   "mimetype": "text/x-python",
   "name": "python",
   "nbconvert_exporter": "python",
   "pygments_lexer": "ipython3",
   "version": "3.12.10"
  }
 },
 "nbformat": 4,
 "nbformat_minor": 5
}
